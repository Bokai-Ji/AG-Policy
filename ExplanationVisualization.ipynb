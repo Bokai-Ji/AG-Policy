{
 "cells": [
  {
   "cell_type": "code",
   "execution_count": 63,
   "metadata": {},
   "outputs": [],
   "source": [
    "import torch\n",
    "import gymnasium as gym\n",
    "import matplotlib.pyplot as plt\n",
    "from matplotlib.gridspec import GridSpec\n",
    "import numpy as np\n",
    "from common.env.atari_wrappers import AttentionGuider\n",
    "from common.model import ConceptNatureModel\n",
    "from common.policy import ConceptPolicy\n",
    "from gymnasium.wrappers import AutoResetWrapper, RecordEpisodeStatistics\n",
    "from gymnasium.wrappers.normalize import RunningMeanStd"
   ]
  },
  {
   "cell_type": "markdown",
   "metadata": {},
   "source": [
    "#### Wrapper"
   ]
  },
  {
   "cell_type": "code",
   "execution_count": 64,
   "metadata": {},
   "outputs": [],
   "source": [
    "class NormalizeObservation(gym.Wrapper, gym.utils.RecordConstructorArgs):\n",
    "    \"\"\"This wrapper will normalize observations s.t. each coordinate is centered with unit variance.\n",
    "\n",
    "    Note:\n",
    "        The normalization depends on past trajectories and observations will not be normalized correctly if the wrapper was\n",
    "        newly instantiated or the policy was changed recently.\n",
    "    \"\"\"\n",
    "\n",
    "    def __init__(self, env: gym.Env, epsilon: float = 1e-8):\n",
    "        \"\"\"This wrapper will normalize observations s.t. each coordinate is centered with unit variance.\n",
    "\n",
    "        Args:\n",
    "            env (Env): The environment to apply the wrapper\n",
    "            epsilon: A stability parameter that is used when scaling the observations.\n",
    "        \"\"\"\n",
    "        gym.utils.RecordConstructorArgs.__init__(self, epsilon=epsilon)\n",
    "        gym.Wrapper.__init__(self, env)\n",
    "\n",
    "        try:\n",
    "            self.num_envs = self.get_wrapper_attr(\"num_envs\")\n",
    "            self.is_vector_env = self.get_wrapper_attr(\"is_vector_env\")\n",
    "        except AttributeError:\n",
    "            self.num_envs = 1\n",
    "            self.is_vector_env = False\n",
    "\n",
    "        if self.is_vector_env:\n",
    "            self.obs_rms = RunningMeanStd(shape=self.single_observation_space.shape)\n",
    "        else:\n",
    "            self.obs_rms = RunningMeanStd(shape=self.observation_space.shape)\n",
    "        self.epsilon = epsilon\n",
    "\n",
    "    def step(self, action):\n",
    "        \"\"\"Steps through the environment and normalizes the observation.\"\"\"\n",
    "        obs, rews, terminateds, truncateds, infos = self.env.step(action)\n",
    "        infos['origin_obs'] = obs\n",
    "        if self.is_vector_env:\n",
    "            obs = self.normalize(obs)\n",
    "        else:\n",
    "            obs = self.normalize(np.array([obs]))[0]\n",
    "        return obs, rews, terminateds, truncateds, infos\n",
    "\n",
    "    def reset(self, **kwargs):\n",
    "        \"\"\"Resets the environment and normalizes the observation.\"\"\"\n",
    "        obs, info = self.env.reset(**kwargs)\n",
    "        info['origin_obs'] = obs\n",
    "        if self.is_vector_env:\n",
    "            return self.normalize(obs), info\n",
    "        else:\n",
    "            return self.normalize(np.array([obs]))[0], info\n",
    "\n",
    "    def normalize(self, obs):\n",
    "        \"\"\"Normalises the observation using the running mean and variance of the observations.\"\"\"\n",
    "        self.obs_rms.update(obs)\n",
    "        return (obs - self.obs_rms.mean) / np.sqrt(self.obs_rms.var + self.epsilon)"
   ]
  },
  {
   "cell_type": "markdown",
   "metadata": {},
   "source": [
    "#### Utils"
   ]
  },
  {
   "cell_type": "code",
   "execution_count": 65,
   "metadata": {},
   "outputs": [],
   "source": [
    "def alpha_blending(original_image, concept_attn, patch_size, alpha, threshold, color_list):\n",
    "    num_concepts = concept_attn.shape[-1]\n",
    "    attention_image = np.copy(original_image) / 255.\n",
    "    num_patches_row = original_image.shape[0] // patch_size\n",
    "    num_patches_col = original_image.shape[1] // patch_size\n",
    "    attention_image *= (1 - alpha)\n",
    "    for c in range(num_concepts):\n",
    "        attention_map = concept_attn[:, c].reshape((num_patches_row, num_patches_col))\n",
    "        attention_map = (attention_map > threshold).astype(float)\n",
    "        attention_map = np.repeat(np.repeat(attention_map, patch_size, axis=0), patch_size, axis=1)\n",
    "        attention_image += alpha * attention_map[:, :, np.newaxis] * color_list[c]\n",
    "    attention_image *= 255\n",
    "    attention_image = attention_image.astype(np.uint8)\n",
    "    \n",
    "    return attention_image\n",
    "\n",
    "def hex_to_rgb(hex):\n",
    "  return tuple(int(hex[i:i+2], 16) for i in (0, 2, 4))\n",
    "\n",
    "def make_envs(n_env, env_id, concept_dict=None, search_area=None, patch_size=None):\n",
    "        def make_env():\n",
    "            env = gym.make(env_id)\n",
    "            env = AttentionGuider(env, concept_dict, search_area, patch_size)\n",
    "            env = AutoResetWrapper(env)\n",
    "            return env\n",
    "        return gym.vector.SyncVectorEnv([make_env for _ in range(n_env)])"
   ]
  },
  {
   "cell_type": "markdown",
   "metadata": {},
   "source": [
    "#### Environment"
   ]
  },
  {
   "cell_type": "code",
   "execution_count": 145,
   "metadata": {},
   "outputs": [
    {
     "name": "stderr",
     "output_type": "stream",
     "text": [
      "/root/miniconda3/lib/python3.8/site-packages/gymnasium/core.py:311: UserWarning: \u001b[33mWARN: env.num_envs to get variables from other wrappers is deprecated and will be removed in v1.0, to get this variable you can do `env.unwrapped.num_envs` for environment variables or `env.get_wrapper_attr('num_envs')` that will search the reminding wrappers.\u001b[0m\n",
      "  logger.warn(\n",
      "/root/miniconda3/lib/python3.8/site-packages/gymnasium/core.py:311: UserWarning: \u001b[33mWARN: env.is_vector_env to get variables from other wrappers is deprecated and will be removed in v1.0, to get this variable you can do `env.unwrapped.is_vector_env` for environment variables or `env.get_wrapper_attr('is_vector_env')` that will search the reminding wrappers.\u001b[0m\n",
      "  logger.warn(\n",
      "/root/miniconda3/lib/python3.8/site-packages/gymnasium/core.py:311: UserWarning: \u001b[33mWARN: env.single_observation_space to get variables from other wrappers is deprecated and will be removed in v1.0, to get this variable you can do `env.unwrapped.single_observation_space` for environment variables or `env.get_wrapper_attr('single_observation_space')` that will search the reminding wrappers.\u001b[0m\n",
      "  logger.warn(\n"
     ]
    }
   ],
   "source": [
    "env_name = 'ALE/Pong-v5'\n",
    "patch_size = 10\n",
    "\n",
    "concept_dict = {\n",
    "    \"player\": np.array([92, 186, 92]),\n",
    "    \"enemy\": np.array([213, 130, 74]),\n",
    "    \"ball\": np.array([236, 236, 236]),\n",
    "}\n",
    "search_area = [[34, 194],[]]\n",
    "env = make_envs(1, env_name, concept_dict, search_area, patch_size)\n",
    "env = NormalizeObservation(env)\n",
    "env = RecordEpisodeStatistics(env)\n",
    "hex_color_list = ['#A52A2A', '#008B8B', '#8FBC8F']\n",
    "color_list = [np.array(hex_to_rgb(hex_color_list[i][1:]))/255. for i in range(len(hex_color_list))]\n",
    "concepts = [\"Player\", \"Enemy\", \"Ball\"]"
   ]
  },
  {
   "cell_type": "markdown",
   "metadata": {},
   "source": [
    "#### Agent"
   ]
  },
  {
   "cell_type": "code",
   "execution_count": 133,
   "metadata": {},
   "outputs": [],
   "source": [
    "class EvaluateAgent:\n",
    "    def __init__(self,\n",
    "                 policy,\n",
    "                 device) -> None:\n",
    "        self.policy = policy\n",
    "        self.device = device\n",
    "    \n",
    "    def predict(self, obs, hidden_state, done):\n",
    "        with torch.no_grad():\n",
    "            obs = torch.FloatTensor(obs).to(device=self.device)\n",
    "            hidden_state = torch.FloatTensor(hidden_state).to(device=self.device)\n",
    "            mask = torch.FloatTensor(1 - done).to(device=self.device)\n",
    "            dist, value, mask_attn, concept_attn = self.policy(obs, hidden_state, mask)\n",
    "            act = dist.sample()\n",
    "            log_prob_act = dist.log_prob(act)\n",
    "        return act.cpu().numpy(), log_prob_act.cpu().numpy(), value.cpu().numpy(), hidden_state.cpu().numpy(), concept_attn.cpu().numpy()"
   ]
  },
  {
   "cell_type": "code",
   "execution_count": 155,
   "metadata": {},
   "outputs": [
    {
     "name": "stdout",
     "output_type": "stream",
     "text": [
      "MODEL LOADED\n"
     ]
    }
   ],
   "source": [
    "param_dict = {'num_heads': 2, 'n_concepts': len(concept_dict.keys())}\n",
    "embedder = ConceptNatureModel(in_channels=3, patch_size=patch_size, output_dim=64)\n",
    "policy = ConceptPolicy(embedder=embedder, recurrent=False, action_size=env.action_space[0].n, **param_dict)\n",
    "agent = EvaluateAgent(policy=policy, device='cuda')\n",
    "agent.policy.load_state_dict(torch.load('trained_models\\Pong\\AG_Policy\\model.pth',\n",
    "                             map_location='cuda')['state_dict'])\n",
    "agent.policy.cuda()\n",
    "print('MODEL LOADED')"
   ]
  },
  {
   "cell_type": "markdown",
   "metadata": {},
   "source": [
    "#### Evaluation"
   ]
  },
  {
   "cell_type": "code",
   "execution_count": 165,
   "metadata": {},
   "outputs": [],
   "source": [
    "obs, info = env.reset()\n",
    "time_step = 0\n",
    "attention_image_list = []\n",
    "concept_attn_list = []\n",
    "hidden_state = np.zeros(256)\n",
    "done = False\n",
    "last_obs = info['origin_obs'][0]\n",
    "while time_step < 200:\n",
    "    act, log_prob_act, value, next_hidden_state, expl_pred = agent.predict(obs, hidden_state, done)\n",
    "    next_obs, reward, done, truncated, info = env.step(act)\n",
    "    attention_image = alpha_blending(\n",
    "        original_image = last_obs,\n",
    "        concept_attn = expl_pred[0],\n",
    "        patch_size=patch_size,\n",
    "        alpha = 0.5,\n",
    "        threshold = 0.5,\n",
    "        color_list = color_list\n",
    "    )\n",
    "    last_obs = info['origin_obs'][0]\n",
    "    attention_image_list.append(attention_image)\n",
    "    concept_attn_list.append(expl_pred[0])\n",
    "    obs = next_obs\n",
    "    time_step += 1"
   ]
  },
  {
   "cell_type": "markdown",
   "metadata": {},
   "source": [
    "#### Explanations\n",
    "\n",
    "- `#A52A2A` (Red) : Player\n",
    "- `#008B8B` (Blue) : Enemy\n",
    "- `#8FBC8F` (Green) : Ball"
   ]
  },
  {
   "cell_type": "code",
   "execution_count": 196,
   "metadata": {},
   "outputs": [
    {
     "data": {
      "image/png": "[encoded data removed]",
      "text/plain": [
       "<Figure size 600x400 with 10 Axes>"
      ]
     },
     "metadata": {
      "needs_background": "light"
     },
     "output_type": "display_data"
    }
   ],
   "source": [
    "fig = plt.figure(dpi=100)\n",
    "for i in range(10):\n",
    "    plt.subplot(2, 5, i+1)\n",
    "    plt.imshow(attention_image_list[50+i])\n",
    "    plt.axis('off')\n",
    "plt.subplots_adjust(wspace=0.05, hspace=0.01)"
   ]
  },
  {
   "cell_type": "markdown",
   "metadata": {},
   "source": [
    "#### Marginal Distribution\n",
    "\n",
    "- `#A52A2A` (Red) : Player\n",
    "- `#008B8B` (Blue) : Enemy\n",
    "- `#8FBC8F` (Green) : Ball\n",
    "\n",
    "The distribution of attention weights on each head for Pong frame. The two stacked bar plots show the sum of the weights along the x and y axis (the range of each plot is [0, 1].)\n",
    "\n",
    "You can feel free to modify `FRAME` below to see results in other frames."
   ]
  },
  {
   "cell_type": "code",
   "execution_count": 190,
   "metadata": {},
   "outputs": [
    {
     "data": {
      "text/plain": [
       "(-1.3, 16.3, 0.0, 2.9642510414123535)"
      ]
     },
     "execution_count": 190,
     "metadata": {},
     "output_type": "execute_result"
    },
    {
     "data": {
      "image/png": "[encoded data removed]",
      "text/plain": [
       "<Figure size 600x400 with 3 Axes>"
      ]
     },
     "metadata": {
      "needs_background": "light"
     },
     "output_type": "display_data"
    }
   ],
   "source": [
    "FRAME = 25\n",
    "x_list = []\n",
    "y_list = []\n",
    "fig = plt.figure(dpi=100)\n",
    "gs = GridSpec(260,210)\n",
    "time_step += 1\n",
    "ax_joint = fig.add_subplot(gs[21:231,0:160])\n",
    "ax_marg_x = fig.add_subplot(gs[0:20,32:128])\n",
    "ax_marg_y = fig.add_subplot(gs[21:231,123:138])\n",
    "ax_joint.imshow(attention_image_list[FRAME])\n",
    "bottom_x = np.zeros(16)\n",
    "bottom_y = np.zeros(21)\n",
    "for idx in range(len(concept_dict)):\n",
    "    concept_map = concept_attn_list[FRAME][:, idx].reshape((attention_image.shape[0] // patch_size, attention_image.shape[1] // patch_size))\n",
    "    concept_map = np.where(concept_map>0.5, concept_map, 0.0)\n",
    "    x_list.append(concept_map.sum(axis=0))\n",
    "    y_list.append(concept_map.sum(axis=1))\n",
    "for idx in range(len(concept_dict)):\n",
    "    x = x_list[idx]\n",
    "    y = y_list[idx]\n",
    "    ax_marg_x.bar(x = np.arange(0, len(x)), height=x, alpha=1, width=1, color = hex_color_list[idx], bottom=bottom_x)\n",
    "    ax_marg_y.barh(y = np.arange(len(y), 0, -1), height=y, alpha=1, width=1, color = hex_color_list[idx], left=bottom_y)\n",
    "    bottom_x = x_list[idx] + bottom_x\n",
    "    bottom_y = y_list[idx] + bottom_y\n",
    "\n",
    "# Turn off tick labels on marginals\n",
    "plt.setp(ax_marg_x.get_xticklabels(), visible=False)\n",
    "plt.setp(ax_marg_y.get_yticklabels(), visible=False)\n",
    "\n",
    "# Turn off axis\n",
    "ax_joint.axis('off')\n",
    "ax_marg_y.axis('off')\n",
    "ax_marg_x.axis('off')"
   ]
  }
 ],
 "metadata": {
  "kernelspec": {
   "display_name": "base",
   "language": "python",
   "name": "python3"
  },
  "language_info": {
   "codemirror_mode": {
    "name": "ipython",
    "version": 3
   },
   "file_extension": ".py",
   "mimetype": "text/x-python",
   "name": "python",
   "nbconvert_exporter": "python",
   "pygments_lexer": "ipython3",
   "version": "3.8.10"
  }
 },
 "nbformat": 4,
 "nbformat_minor": 2
}
